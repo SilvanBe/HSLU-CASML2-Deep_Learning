{
  "nbformat": 4,
  "nbformat_minor": 0,
  "metadata": {
    "colab": {
      "provenance": []
    },
    "kernelspec": {
      "name": "python3",
      "display_name": "Python 3"
    },
    "accelerator": "GPU"
  },
  "cells": [
    {
      "cell_type": "markdown",
      "metadata": {
        "id": "fjTDDmYaAda2"
      },
      "source": [
        "# Your first variational autoencoder\n",
        "\n",
        "Version 1.0\n",
        "\n",
        "(C) 2020 - Umberto Michelucci, Michela Sperti\n",
        "\n",
        "This notebook is part of the book _Applied Deep Learning: a case based approach, **2nd edition**_ from APRESS by [U. Michelucci](mailto:umberto.michelucci@toelt.ai) and [M. Sperti](mailto:michela.sperti@toelt.ai).\n",
        "\n",
        "## Performance TIP\n",
        "\n",
        "Activate GPU acceleration in the notebook to make it go much faster."
      ]
    },
    {
      "cell_type": "code",
      "metadata": {
        "id": "FqfKYf87GFib"
      },
      "source": [
        "import numpy as np\n",
        "import tensorflow as tf\n",
        "from tensorflow import keras\n",
        "from tensorflow.keras import layers\n",
        "\n",
        "import matplotlib.pyplot as plt"
      ],
      "execution_count": null,
      "outputs": []
    },
    {
      "cell_type": "markdown",
      "metadata": {
        "id": "3FrgR1BqAjXW"
      },
      "source": [
        "## Random Sampling\n",
        "\n",
        "The following class is actually doing the random sampling for $z$."
      ]
    },
    {
      "cell_type": "code",
      "metadata": {
        "id": "NjAUcmu9GKnU"
      },
      "source": [
        "class Sampling(layers.Layer):\n",
        "    \"\"\"Uses (z_mean, z_log_var) to sample z, the vector encoding a digit.\"\"\"\n",
        "\n",
        "    def call(self, inputs):\n",
        "        z_mean, z_log_var = inputs\n",
        "        batch = tf.shape(z_mean)[0]\n",
        "        dim = tf.shape(z_mean)[1]\n",
        "        epsilon = tf.keras.backend.random_normal(shape=(batch, dim))\n",
        "        return z_mean + tf.exp(0.5 * z_log_var) * epsilon"
      ],
      "execution_count": null,
      "outputs": []
    },
    {
      "cell_type": "markdown",
      "metadata": {
        "id": "3MUMPLt-Awlc"
      },
      "source": [
        "## Encoder part\n"
      ]
    },
    {
      "cell_type": "code",
      "metadata": {
        "id": "27aotOSDGMMl"
      },
      "source": [
        "latent_dim = 2\n",
        "\n",
        "encoder_inputs = keras.Input(shape=(28, 28, 1))\n",
        "x = layers.Conv2D(32, 3, activation=\"relu\", strides=2, padding=\"same\")(encoder_inputs)\n",
        "x = layers.Conv2D(64, 3, activation=\"relu\", strides=2, padding=\"same\")(x)\n",
        "x = layers.Flatten()(x)\n",
        "x = layers.Dense(16, activation=\"relu\")(x)\n",
        "z_mean = layers.Dense(latent_dim, name=\"z_mean\")(x)\n",
        "z_log_var = layers.Dense(latent_dim, name=\"z_log_var\")(x)\n",
        "z = Sampling()([z_mean, z_log_var])\n",
        "encoder = keras.Model(encoder_inputs, [z_mean, z_log_var, z], name=\"encoder\")\n",
        "encoder.summary()"
      ],
      "execution_count": null,
      "outputs": []
    },
    {
      "cell_type": "markdown",
      "metadata": {
        "id": "Yw89o99XB5za"
      },
      "source": [
        "## Decoder Part"
      ]
    },
    {
      "cell_type": "code",
      "metadata": {
        "id": "ADdPp213GObS"
      },
      "source": [
        "latent_inputs = keras.Input(shape=(latent_dim,))\n",
        "x = layers.Dense(7 * 7 * 64, activation=\"relu\")(latent_inputs)\n",
        "x = layers.Reshape((7, 7, 64))(x)\n",
        "x = layers.Conv2DTranspose(64, 3, activation=\"relu\", strides=2, padding=\"same\")(x)\n",
        "x = layers.Conv2DTranspose(32, 3, activation=\"relu\", strides=2, padding=\"same\")(x)\n",
        "decoder_outputs = layers.Conv2DTranspose(1, 3, activation=\"sigmoid\", padding=\"same\")(x)\n",
        "decoder = keras.Model(latent_inputs, decoder_outputs, name=\"decoder\")\n",
        "decoder.summary()"
      ],
      "execution_count": null,
      "outputs": []
    },
    {
      "cell_type": "markdown",
      "metadata": {
        "id": "F176CSNNB9h5"
      },
      "source": [
        "## Putting all together"
      ]
    },
    {
      "cell_type": "code",
      "metadata": {
        "id": "vrzSO0_xGQZv"
      },
      "source": [
        "class VAE(keras.Model):\n",
        "    def __init__(self, encoder, decoder, **kwargs):\n",
        "        super(VAE, self).__init__(**kwargs)\n",
        "        self.encoder = encoder\n",
        "        self.decoder = decoder\n",
        "\n",
        "    def train_step(self, data):\n",
        "        if isinstance(data, tuple):\n",
        "            data = data[0]\n",
        "        with tf.GradientTape() as tape:\n",
        "            z_mean, z_log_var, z = encoder(data)\n",
        "            reconstruction = decoder(z)\n",
        "            reconstruction_loss = tf.reduce_mean(\n",
        "                keras.losses.binary_crossentropy(data, reconstruction)\n",
        "            )\n",
        "            reconstruction_loss *= 28 * 28\n",
        "            kl_loss = 1 + z_log_var - tf.square(z_mean) - tf.exp(z_log_var)\n",
        "            kl_loss = tf.reduce_mean(kl_loss)\n",
        "            kl_loss *= -0.5\n",
        "            total_loss = reconstruction_loss + kl_loss\n",
        "        grads = tape.gradient(total_loss, self.trainable_weights)\n",
        "        self.optimizer.apply_gradients(zip(grads, self.trainable_weights))\n",
        "        return {\n",
        "            \"loss\": total_loss,\n",
        "            \"reconstruction_loss\": reconstruction_loss,\n",
        "            \"kl_loss\": kl_loss,\n",
        "        }"
      ],
      "execution_count": null,
      "outputs": []
    },
    {
      "cell_type": "markdown",
      "metadata": {
        "id": "S0xxeTefB_U4"
      },
      "source": [
        "## Fitting the model"
      ]
    },
    {
      "cell_type": "code",
      "metadata": {
        "id": "dYX-BnbvGSD_"
      },
      "source": [
        "(x_train, _), (x_test, _) = keras.datasets.mnist.load_data()\n",
        "mnist_digits = np.concatenate([x_train, x_test], axis=0)\n",
        "mnist_digits = np.expand_dims(mnist_digits, -1).astype(\"float32\") / 255\n",
        "\n",
        "vae = VAE(encoder, decoder)\n",
        "vae.compile(optimizer=keras.optimizers.Adam())\n",
        "vae.fit(mnist_digits, epochs=20, batch_size=128)"
      ],
      "execution_count": null,
      "outputs": []
    },
    {
      "cell_type": "code",
      "metadata": {
        "id": "tS_KE3458vRk"
      },
      "source": [
        "example = np.array([[1.1, 0.5]])\n",
        "x_decoded = decoder.predict(example)\n",
        "digit = x_decoded[0].reshape(28, 28)\n",
        "plt.imshow(digit, cmap=\"Greys_r\")"
      ],
      "execution_count": null,
      "outputs": []
    },
    {
      "cell_type": "code",
      "metadata": {
        "id": "Lbyicwm49mWk"
      },
      "source": [
        "example = np.array([[0.9, 0.2]])\n",
        "x_decoded = decoder.predict(example)\n",
        "digit = x_decoded[0].reshape(28, 28)\n",
        "plt.imshow(digit, cmap=\"Greys_r\")"
      ],
      "execution_count": null,
      "outputs": []
    },
    {
      "cell_type": "code",
      "metadata": {
        "id": "nfwbUK3mGT1a"
      },
      "source": [
        "import matplotlib.pyplot as plt\n",
        "\n",
        "def plot_latent(encoder, decoder):\n",
        "    # display a n*n 2D manifold of digits\n",
        "    n = 10\n",
        "    digit_size = 28\n",
        "    scale = 1.0\n",
        "    figsize = 12\n",
        "    # linearly spaced coordinates corresponding to the 2D plot\n",
        "    # of digit classes in the latent space\n",
        "    grid_x = np.linspace(-scale, scale, n)\n",
        "    grid_y = np.linspace(-scale, scale, n)[::-1]\n",
        "\n",
        "    pred = np.meshgrid(grid_x, grid_y)\n",
        "    pred = np.hstack((pred[0].reshape(-1, 1), pred[1].reshape(-1, 1)))\n",
        "    pred = decoder.predict(pred, verbose=False)\n",
        "    pred = pred.reshape((n, n) + pred.shape[1:])\n",
        "\n",
        "    fig, axes = plt.subplots(n, n, figsize=(figsize, figsize))\n",
        "\n",
        "    for row in range(n):\n",
        "      for col in range(n):\n",
        "        ax = axes[row][col]\n",
        "        ax.imshow(pred[col, row], cmap='gray')\n",
        "        ax.get_xaxis().set_visible(False)\n",
        "        ax.get_yaxis().set_visible(False)\n",
        "\n",
        "    plt.show(fig)\n",
        "\n",
        "plot_latent(encoder, decoder)"
      ],
      "execution_count": null,
      "outputs": []
    },
    {
      "cell_type": "code",
      "source": [],
      "metadata": {
        "id": "oHpyb5F3W9FU"
      },
      "execution_count": null,
      "outputs": []
    }
  ]
}