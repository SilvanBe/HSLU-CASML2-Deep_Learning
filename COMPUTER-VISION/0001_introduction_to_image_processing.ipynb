{
  "nbformat": 4,
  "nbformat_minor": 0,
  "metadata": {
    "colab": {
      "provenance": []
    },
    "kernelspec": {
      "name": "python3",
      "display_name": "Python 3"
    },
    "language_info": {
      "name": "python"
    }
  },
  "cells": [
    {
      "cell_type": "markdown",
      "source": [
        "# Introduction to Image Processing\n",
        "\n",
        "\n",
        "--- Alessandro Motta, 9th of November 2023"
      ],
      "metadata": {
        "id": "yNglZ-p52qL0"
      }
    },
    {
      "cell_type": "code",
      "execution_count": null,
      "metadata": {
        "id": "8OtK4Vsx2iC6"
      },
      "outputs": [],
      "source": [
        "import imageio\n",
        "import matplotlib.pyplot as plt\n",
        "import numpy as np\n",
        "import scipy as sp"
      ]
    },
    {
      "cell_type": "markdown",
      "source": [
        "## Loading an Image\n",
        "\n",
        "We use the [imageio](http://imageio.readthedocs.io) library to read a PNG file that contains a photo of two parrots. To display the image, we use [Matplotlib](https://matplotlib.org/)."
      ],
      "metadata": {
        "id": "kTu93SMZ5Tsj"
      }
    },
    {
      "cell_type": "code",
      "source": [
        "img_file = 'https://r0k.us/graphics/kodak/kodak/kodim23.png'\n",
        "img = imageio.imread(img_file)\n",
        "\n",
        "plt.imshow(img)\n",
        "plt.show()"
      ],
      "metadata": {
        "id": "lzIrr4Tr2ntY"
      },
      "execution_count": null,
      "outputs": []
    },
    {
      "cell_type": "markdown",
      "source": [
        "## Computer Representation of Images\n",
        "\n",
        "The image is represented as a ? dimensional array. The dimensions are\n",
        "\n",
        "- ?\n",
        "\n",
        "Each array element is a ?, taking a value in the range.\n",
        "\n",
        "Questions:\n",
        "- Why use this / not use another ordering of the dimensions?\n",
        "- How would you represent multiple images of the same size?\n",
        "\n"
      ],
      "metadata": {
        "id": "IxQpGVgx54lA"
      }
    },
    {
      "cell_type": "code",
      "source": [
        "print(f\"The image has type: {type(img)}\")\n",
        "print(f\"The n-dimensional array (ndarray) with shape: {img.shape}\")\n",
        "print(f\"The elements of the ndarray have type: {img.dtype}\")"
      ],
      "metadata": {
        "id": "-e0ke1V84-6C"
      },
      "execution_count": null,
      "outputs": []
    },
    {
      "cell_type": "markdown",
      "source": [
        "## Plotting the Channels separately\n",
        "\n",
        "Questions: What do the different channels represent?"
      ],
      "metadata": {
        "id": "Kaj6EYFq6ot8"
      }
    },
    {
      "cell_type": "code",
      "source": [
        "plt.figure(figsize=(12, 3))\n",
        "\n",
        "ax = plt.subplot(1, 4, 1)\n",
        "ax.set_title(\"All channels\")\n",
        "ax.imshow(img)\n",
        "\n",
        "img_channels = np.split(img, img.shape[2], axis=2)\n",
        "for i, img_channel in enumerate(img_channels):\n",
        "  ax = plt.subplot(1, 4, 2 + i)\n",
        "  ax.set_title(f\"Channel {i}\")\n",
        "  ax.imshow(img_channel, cmap='gray')\n",
        "\n",
        "plt.show()"
      ],
      "metadata": {
        "id": "MXFilOUO5DAb"
      },
      "execution_count": null,
      "outputs": []
    },
    {
      "cell_type": "markdown",
      "source": [
        "## Converting Image to Grayscale\n",
        "\n",
        "For context, see: https://pillow.readthedocs.io/en/stable/reference/Image.html#PIL.Image.Image.convert"
      ],
      "metadata": {
        "id": "t52HQWgS8wTH"
      }
    },
    {
      "cell_type": "code",
      "source": [
        "def to_grayscale(img):\n",
        "  # Convert channels from integers 0, .., 255 to floating point numbers -1, .., 1\n",
        "  img_gray = 2 * (img.astype(float) / 255) - 1\n",
        "  # Separate channels\n",
        "  img_gray = np.split(img_gray, img_gray.shape[2], axis=2)\n",
        "\n",
        "  # Convert to grayscale\n",
        "  img_gray = (\n",
        "      img_gray[0] * 0.299 +\n",
        "      img_gray[1] * 0.587 +\n",
        "      img_gray[2] * 0.114\n",
        "  )\n",
        "\n",
        "  # Remove the channel dimension\n",
        "  img_gray = img_gray[:, :, 0]\n",
        "  return img_gray\n",
        "\n",
        "img_gray = to_grayscale(img)\n",
        "print(f\"The grayscale image has shape: {img_gray.shape}\")\n",
        "plt.imshow(img_gray, cmap='gray', vmin=-1, vmax=+1)\n",
        "plt.show()"
      ],
      "metadata": {
        "id": "V_2bG8GQ8vLq"
      },
      "execution_count": null,
      "outputs": []
    },
    {
      "cell_type": "markdown",
      "source": [
        "## Modifying the Image by adding / multiplying by a Value\n",
        "\n",
        "- What happens when you add / subtract from the image values?\n",
        "- What happens when you multiply / decide the image values?"
      ],
      "metadata": {
        "id": "hROOzJF6-R1K"
      }
    },
    {
      "cell_type": "code",
      "source": [
        "def plot_original_and_modified_image(img, img_modified):\n",
        "  plt.figure(figsize=(8, 5))\n",
        "\n",
        "  # Original image\n",
        "  ax = plt.subplot(2, 2, 1)\n",
        "  ax.set_title(\"Original\")\n",
        "  ax.set_xlabel(\"Pixel value\")\n",
        "  ax.set_ylabel(\"Number of pixels\")\n",
        "  ax.hist(img.reshape(-1), bins=np.linspace(-1, 1, 51), range=(-1, +1))\n",
        "  hist_ylim = ax.get_ylim()\n",
        "\n",
        "  ax = plt.subplot(2, 2, 2)\n",
        "  ax.imshow(img, cmap='gray', vmin=-1, vmax=+1)\n",
        "\n",
        "  # Modified image\n",
        "  ax = plt.subplot(2, 2, 3)\n",
        "  ax.set_title(\"Modified\")\n",
        "  ax.set_xlabel(\"Pixel value\")\n",
        "  ax.set_ylabel(\"Number of pixels\")\n",
        "  ax.hist(img_modified.reshape(-1), bins=np.linspace(-1, 1, 51))\n",
        "  ax.set_ylim(*hist_ylim)\n",
        "\n",
        "  ax = plt.subplot(2, 2, 4)\n",
        "  ax.imshow(img_modified, cmap='gray', vmin=-1, vmax=+1)\n",
        "\n",
        "  plt.tight_layout()\n",
        "  plt.show()\n",
        "\n",
        "# Modify the image\n",
        "img_modified = img_gray + 0.5\n",
        "# Make sure that the values stay within -1, .., +1\n",
        "img_modified = np.clip(img_modified, -1, +1)\n",
        "\n",
        "plot_original_and_modified_image(img_gray, img_modified)"
      ],
      "metadata": {
        "id": "pd-aWyB99u_K"
      },
      "execution_count": null,
      "outputs": []
    },
    {
      "cell_type": "markdown",
      "source": [
        "## Adding an removing Noise\n",
        "- What happens if you increase the bandwidth?"
      ],
      "metadata": {
        "id": "iD31inC4Evn2"
      }
    },
    {
      "cell_type": "code",
      "source": [
        "def make_gaussian_filter(*, bandwidth, size):\n",
        "  filter = np.linspace(-(size - 1) / 2, +(size - 1) / 2, size)\n",
        "  filter = np.exp(-(\n",
        "      np.square(filter.reshape(size, 1) / bandwidth) +\n",
        "      np.square(filter.reshape(1, size) / bandwidth)\n",
        "  ) / 2) / (2 * np.pi * np.square(bandwidth))\n",
        "  return filter.reshape(size, size)\n",
        "\n",
        "# Adding noise to image\n",
        "img_noisy = img_gray + 0.25 * np.random.normal(size=img_gray.shape)\n",
        "img_noisy = np.clip(img_noisy, -1, +1)\n",
        "\n",
        "# Creating Gaussian filter\n",
        "gauss_filter = make_gaussian_filter(bandwidth=1, size=10)\n",
        "\n",
        "plt.figure(figsize=(1, 1))\n",
        "plt.title(\"Gaussian filter\")\n",
        "plt.imshow(gauss_filter, cmap='gray', vmin=0)\n",
        "plt.show()\n",
        "\n",
        "img_filtered = sp.signal.convolve2d(img_noisy, gauss_filter)\n",
        "plot_original_and_modified_image(img_noisy, img_filtered)"
      ],
      "metadata": {
        "id": "VqKUia1z-y7z"
      },
      "execution_count": null,
      "outputs": []
    },
    {
      "cell_type": "markdown",
      "source": [
        "## Sobel Filter\n",
        "- What does this filter do?\n",
        "- Can you explain how it works? (Hint: look at the two filters separately)\n",
        "- Could you get the same result with a single filter?"
      ],
      "metadata": {
        "id": "TIx6McYaLP1z"
      }
    },
    {
      "cell_type": "code",
      "source": [
        "sobel_filter_x = np.asarray(\n",
        "    [[1, 0, -1],\n",
        "     [2, 0, -2],\n",
        "     [1, 0, -1]],\n",
        "    dtype=float\n",
        ")\n",
        "\n",
        "sobel_filter_y = np.asarray(\n",
        "    [[ 1,  2,  1],\n",
        "     [ 0,  0,  0],\n",
        "     [-1, -2, -1]],\n",
        "    dtype=float\n",
        ")\n",
        "\n",
        "img_filtered = np.sqrt(\n",
        "    np.square(sp.signal.convolve2d(img_gray, sobel_filter_x)) +\n",
        "    np.square(sp.signal.convolve2d(img_gray, sobel_filter_y))\n",
        ")\n",
        "\n",
        "plot_original_and_modified_image(img_gray, img_filtered)"
      ],
      "metadata": {
        "id": "hobqC3gaLAzb"
      },
      "execution_count": null,
      "outputs": []
    },
    {
      "cell_type": "markdown",
      "source": [
        "## Lossy Image Formats\n",
        "- If you write an image as JPEG and read it back in, do you get back the original?\n",
        "- If there are differences, where are they? Can you speculate or explain why?\n",
        "- What if you write / read the image as PNG?"
      ],
      "metadata": {
        "id": "HozBo7E1Q_-l"
      }
    },
    {
      "cell_type": "code",
      "source": [
        "imageio.imwrite('image.jpeg', img)\n",
        "img_jpeg = imageio.imread('image.jpeg')\n",
        "img_jpeg_gray = to_grayscale(img_jpeg)\n",
        "\n",
        "plt.figure(figsize=(12, 3))\n",
        "plt.subplot(1, 3, 1)\n",
        "plt.title('Original')\n",
        "plt.imshow(img_gray, cmap='gray', vmin=-1, vmax=+1)\n",
        "\n",
        "plt.subplot(1, 3, 2)\n",
        "plt.title('From JPEG')\n",
        "plt.imshow(img_jpeg_gray, cmap='gray', vmin=-1, vmax=+1)\n",
        "\n",
        "plt.subplot(1, 3, 3)\n",
        "plt.title('Difference')\n",
        "plt.imshow(np.abs(img_gray - img_jpeg_gray), cmap='gray', vmin=0)\n",
        "\n",
        "plt.show()"
      ],
      "metadata": {
        "id": "eXO4mL4pQCo-"
      },
      "execution_count": null,
      "outputs": []
    }
  ]
}